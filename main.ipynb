{
 "cells": [
  {
   "cell_type": "code",
   "execution_count": 1,
   "metadata": {},
   "outputs": [
    {
     "data": {
      "text/html": [
       "<div>\n",
       "<style scoped>\n",
       "    .dataframe tbody tr th:only-of-type {\n",
       "        vertical-align: middle;\n",
       "    }\n",
       "\n",
       "    .dataframe tbody tr th {\n",
       "        vertical-align: top;\n",
       "    }\n",
       "\n",
       "    .dataframe thead th {\n",
       "        text-align: right;\n",
       "    }\n",
       "</style>\n",
       "<table border=\"1\" class=\"dataframe\">\n",
       "  <thead>\n",
       "    <tr style=\"text-align: right;\">\n",
       "      <th></th>\n",
       "      <th>SSID</th>\n",
       "      <th>BSSID</th>\n",
       "      <th>Signal(%)</th>\n",
       "      <th>X</th>\n",
       "      <th>Y</th>\n",
       "    </tr>\n",
       "  </thead>\n",
       "  <tbody>\n",
       "    <tr>\n",
       "      <th>0</th>\n",
       "      <td>eduroam</td>\n",
       "      <td>f4:ea:b5:b0:d4:25</td>\n",
       "      <td>90</td>\n",
       "      <td>3.04</td>\n",
       "      <td>6.37</td>\n",
       "    </tr>\n",
       "    <tr>\n",
       "      <th>1</th>\n",
       "      <td>eduroam</td>\n",
       "      <td>f4:ea:b5:dc:15:25</td>\n",
       "      <td>65</td>\n",
       "      <td>4.27</td>\n",
       "      <td>6.43</td>\n",
       "    </tr>\n",
       "    <tr>\n",
       "      <th>2</th>\n",
       "      <td>eduroam</td>\n",
       "      <td>f4:ea:b5:dc:6d:96</td>\n",
       "      <td>100</td>\n",
       "      <td>5.65</td>\n",
       "      <td>6.50</td>\n",
       "    </tr>\n",
       "    <tr>\n",
       "      <th>3</th>\n",
       "      <td>eduroam</td>\n",
       "      <td>f4:ea:b5:dc:15:25</td>\n",
       "      <td>85</td>\n",
       "      <td>5.77</td>\n",
       "      <td>8.03</td>\n",
       "    </tr>\n",
       "    <tr>\n",
       "      <th>4</th>\n",
       "      <td>THGA</td>\n",
       "      <td>f4:ea:b5:dc:2f:15</td>\n",
       "      <td>70</td>\n",
       "      <td>7.38</td>\n",
       "      <td>2.16</td>\n",
       "    </tr>\n",
       "  </tbody>\n",
       "</table>\n",
       "</div>"
      ],
      "text/plain": [
       "      SSID              BSSID  Signal(%)     X     Y\n",
       "0  eduroam  f4:ea:b5:b0:d4:25         90  3.04  6.37\n",
       "1  eduroam  f4:ea:b5:dc:15:25         65  4.27  6.43\n",
       "2  eduroam  f4:ea:b5:dc:6d:96        100  5.65  6.50\n",
       "3  eduroam  f4:ea:b5:dc:15:25         85  5.77  8.03\n",
       "4     THGA  f4:ea:b5:dc:2f:15         70  7.38  2.16"
      ]
     },
     "execution_count": 1,
     "metadata": {},
     "output_type": "execute_result"
    }
   ],
   "source": [
    "import pandas as pd\n",
    "import numpy as np\n",
    "df = pd.read_csv(\"./BSSID.csv\", sep=\";\")\n",
    "df"
   ]
  },
  {
   "cell_type": "code",
   "execution_count": 2,
   "metadata": {},
   "outputs": [
    {
     "name": "stdout",
     "output_type": "stream",
     "text": [
      "position détecté\n",
      "x : 5.581105709009553, y : 5.20220400119403\n"
     ]
    }
   ],
   "source": [
    "from src.detect_user import detect_user_position, distance\n",
    "from main import load_acces_points"
   ]
  },
  {
   "cell_type": "code",
   "execution_count": 3,
   "metadata": {},
   "outputs": [],
   "source": [
    "A, W = load_acces_points(\"./BSSID.csv\")"
   ]
  },
  {
   "cell_type": "code",
   "execution_count": 4,
   "metadata": {},
   "outputs": [],
   "source": [
    "M, objs = detect_user_position(A, W, d=distance)"
   ]
  },
  {
   "cell_type": "code",
   "execution_count": 5,
   "metadata": {},
   "outputs": [
    {
     "name": "stdout",
     "output_type": "stream",
     "text": [
      "[position détectée]  \n",
      " M (5.581107323451348, 5.202204957113143)\n"
     ]
    }
   ],
   "source": [
    "print(\"[position détectée]  \")\n",
    "print(f\" M ({M[0]}, {M[1]})\")"
   ]
  }
 ],
 "metadata": {
  "kernelspec": {
   "display_name": "base",
   "language": "python",
   "name": "python3"
  },
  "language_info": {
   "codemirror_mode": {
    "name": "ipython",
    "version": 3
   },
   "file_extension": ".py",
   "mimetype": "text/x-python",
   "name": "python",
   "nbconvert_exporter": "python",
   "pygments_lexer": "ipython3",
   "version": "3.10.9"
  }
 },
 "nbformat": 4,
 "nbformat_minor": 2
}
