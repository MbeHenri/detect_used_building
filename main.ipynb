{
 "cells": [
  {
   "cell_type": "markdown",
   "metadata": {},
   "source": [
    "# Détection de la position d'un usager"
   ]
  },
  {
   "cell_type": "markdown",
   "metadata": {},
   "source": [
    "## Avec les positions des points d'accès"
   ]
  },
  {
   "cell_type": "markdown",
   "metadata": {},
   "source": [
    "### Visualisation des fichiers utilisés"
   ]
  },
  {
   "cell_type": "markdown",
   "metadata": {},
   "source": [
    "`Fichier contenant les positions des points d'accès ainsi que les forces de leurs signaux reçus par l'usager`\n",
    "\n",
    "* X : position en (x) du point d'accès \n",
    "* Y : position en (y) du point d'accès "
   ]
  },
  {
   "cell_type": "code",
   "execution_count": 1,
   "metadata": {},
   "outputs": [
    {
     "data": {
      "text/html": [
       "<div>\n",
       "<style scoped>\n",
       "    .dataframe tbody tr th:only-of-type {\n",
       "        vertical-align: middle;\n",
       "    }\n",
       "\n",
       "    .dataframe tbody tr th {\n",
       "        vertical-align: top;\n",
       "    }\n",
       "\n",
       "    .dataframe thead th {\n",
       "        text-align: right;\n",
       "    }\n",
       "</style>\n",
       "<table border=\"1\" class=\"dataframe\">\n",
       "  <thead>\n",
       "    <tr style=\"text-align: right;\">\n",
       "      <th></th>\n",
       "      <th>SSID</th>\n",
       "      <th>BSSID</th>\n",
       "      <th>Signal(%)</th>\n",
       "      <th>X</th>\n",
       "      <th>Y</th>\n",
       "    </tr>\n",
       "  </thead>\n",
       "  <tbody>\n",
       "    <tr>\n",
       "      <th>0</th>\n",
       "      <td>eduroam</td>\n",
       "      <td>f4:ea:b5:b0:d4:25</td>\n",
       "      <td>90</td>\n",
       "      <td>3.04</td>\n",
       "      <td>6.37</td>\n",
       "    </tr>\n",
       "    <tr>\n",
       "      <th>1</th>\n",
       "      <td>eduroam</td>\n",
       "      <td>f4:ea:b5:dc:15:25</td>\n",
       "      <td>65</td>\n",
       "      <td>4.27</td>\n",
       "      <td>6.43</td>\n",
       "    </tr>\n",
       "    <tr>\n",
       "      <th>2</th>\n",
       "      <td>eduroam</td>\n",
       "      <td>f4:ea:b5:dc:6d:96</td>\n",
       "      <td>100</td>\n",
       "      <td>5.65</td>\n",
       "      <td>6.50</td>\n",
       "    </tr>\n",
       "    <tr>\n",
       "      <th>3</th>\n",
       "      <td>eduroam</td>\n",
       "      <td>f4:ea:b5:dc:15:25</td>\n",
       "      <td>85</td>\n",
       "      <td>5.77</td>\n",
       "      <td>8.03</td>\n",
       "    </tr>\n",
       "    <tr>\n",
       "      <th>4</th>\n",
       "      <td>THGA</td>\n",
       "      <td>f4:ea:b5:dc:2f:15</td>\n",
       "      <td>70</td>\n",
       "      <td>7.38</td>\n",
       "      <td>2.16</td>\n",
       "    </tr>\n",
       "  </tbody>\n",
       "</table>\n",
       "</div>"
      ],
      "text/plain": [
       "      SSID              BSSID  Signal(%)     X     Y\n",
       "0  eduroam  f4:ea:b5:b0:d4:25         90  3.04  6.37\n",
       "1  eduroam  f4:ea:b5:dc:15:25         65  4.27  6.43\n",
       "2  eduroam  f4:ea:b5:dc:6d:96        100  5.65  6.50\n",
       "3  eduroam  f4:ea:b5:dc:15:25         85  5.77  8.03\n",
       "4     THGA  f4:ea:b5:dc:2f:15         70  7.38  2.16"
      ]
     },
     "execution_count": 1,
     "metadata": {},
     "output_type": "execute_result"
    }
   ],
   "source": [
    "import pandas as pd\n",
    "df = pd.read_csv(\"./datas/with_acces/BSSID.csv\", sep=\";\")\n",
    "df"
   ]
  },
  {
   "cell_type": "markdown",
   "metadata": {},
   "source": [
    "### Calcul de la position de l'usager"
   ]
  },
  {
   "cell_type": "markdown",
   "metadata": {},
   "source": [
    "`Calcul de la position de l'usager depuis le fichier`\n",
    "\n",
    "* Chargement du fichier des positions de points d'accès\n",
    "* Calcul de la position proprement dite"
   ]
  },
  {
   "cell_type": "code",
   "execution_count": 2,
   "metadata": {},
   "outputs": [],
   "source": [
    "from src.detect_user import detect_with_acces\n",
    "from src.load import load_acces_points_2d"
   ]
  },
  {
   "cell_type": "code",
   "execution_count": 3,
   "metadata": {},
   "outputs": [],
   "source": [
    "A, W = load_acces_points_2d(\"./datas/with_acces/BSSID.csv\")\n",
    "M = detect_with_acces(A, W)"
   ]
  },
  {
   "cell_type": "code",
   "execution_count": 4,
   "metadata": {},
   "outputs": [
    {
     "name": "stdout",
     "output_type": "stream",
     "text": [
      "[position détectée]  \n",
      " M (x : 5.581107110963173, y : 5.202204830724139)\n"
     ]
    }
   ],
   "source": [
    "print(\"[position détectée]  \")\n",
    "print(f\" M (x : {M[0]}, y : {M[1]})\")"
   ]
  },
  {
   "cell_type": "markdown",
   "metadata": {},
   "source": [
    "## Avec l'ensemble de positions des signaux collectés en avance"
   ]
  },
  {
   "cell_type": "markdown",
   "metadata": {},
   "source": [
    "### Visualisation des fichiers utilisés"
   ]
  },
  {
   "cell_type": "markdown",
   "metadata": {},
   "source": [
    "`Fichier contenant les signaux reçus par l'usager`"
   ]
  },
  {
   "cell_type": "code",
   "execution_count": 5,
   "metadata": {},
   "outputs": [
    {
     "data": {
      "text/html": [
       "<div>\n",
       "<style scoped>\n",
       "    .dataframe tbody tr th:only-of-type {\n",
       "        vertical-align: middle;\n",
       "    }\n",
       "\n",
       "    .dataframe tbody tr th {\n",
       "        vertical-align: top;\n",
       "    }\n",
       "\n",
       "    .dataframe thead th {\n",
       "        text-align: right;\n",
       "    }\n",
       "</style>\n",
       "<table border=\"1\" class=\"dataframe\">\n",
       "  <thead>\n",
       "    <tr style=\"text-align: right;\">\n",
       "      <th></th>\n",
       "      <th>SSID</th>\n",
       "      <th>BSSID</th>\n",
       "      <th>Signal(%)</th>\n",
       "    </tr>\n",
       "  </thead>\n",
       "  <tbody>\n",
       "    <tr>\n",
       "      <th>0</th>\n",
       "      <td>eduroam</td>\n",
       "      <td>f4:ea:b5:b0:d4:25</td>\n",
       "      <td>90</td>\n",
       "    </tr>\n",
       "    <tr>\n",
       "      <th>1</th>\n",
       "      <td>eduroam</td>\n",
       "      <td>f4:ea:b5:dc:15:25</td>\n",
       "      <td>65</td>\n",
       "    </tr>\n",
       "    <tr>\n",
       "      <th>2</th>\n",
       "      <td>eduroam</td>\n",
       "      <td>f4:ea:b5:dc:6d:96</td>\n",
       "      <td>90</td>\n",
       "    </tr>\n",
       "    <tr>\n",
       "      <th>3</th>\n",
       "      <td>THGA</td>\n",
       "      <td>f4:ea:b5:dc:2f:15</td>\n",
       "      <td>70</td>\n",
       "    </tr>\n",
       "  </tbody>\n",
       "</table>\n",
       "</div>"
      ],
      "text/plain": [
       "      SSID              BSSID  Signal(%)\n",
       "0  eduroam  f4:ea:b5:b0:d4:25         90\n",
       "1  eduroam  f4:ea:b5:dc:15:25         65\n",
       "2  eduroam  f4:ea:b5:dc:6d:96         90\n",
       "3     THGA  f4:ea:b5:dc:2f:15         70"
      ]
     },
     "execution_count": 5,
     "metadata": {},
     "output_type": "execute_result"
    }
   ],
   "source": [
    "import pandas as pd\n",
    "df = pd.read_csv(\"./datas/without_acces/BSSID_user.csv\", sep=\";\")\n",
    "df"
   ]
  },
  {
   "cell_type": "markdown",
   "metadata": {},
   "source": [
    "`Fichier contenant les signaux collectés et les positions où ils ont été prises`\n",
    "\n",
    "* X : position en (x) où a été collecté le signal\n",
    "* Y : position en (y) où a été collecté le signal"
   ]
  },
  {
   "cell_type": "code",
   "execution_count": 6,
   "metadata": {},
   "outputs": [
    {
     "data": {
      "text/html": [
       "<div>\n",
       "<style scoped>\n",
       "    .dataframe tbody tr th:only-of-type {\n",
       "        vertical-align: middle;\n",
       "    }\n",
       "\n",
       "    .dataframe tbody tr th {\n",
       "        vertical-align: top;\n",
       "    }\n",
       "\n",
       "    .dataframe thead th {\n",
       "        text-align: right;\n",
       "    }\n",
       "</style>\n",
       "<table border=\"1\" class=\"dataframe\">\n",
       "  <thead>\n",
       "    <tr style=\"text-align: right;\">\n",
       "      <th></th>\n",
       "      <th>SSID</th>\n",
       "      <th>BSSID</th>\n",
       "      <th>Signal(%)</th>\n",
       "      <th>X</th>\n",
       "      <th>Y</th>\n",
       "    </tr>\n",
       "  </thead>\n",
       "  <tbody>\n",
       "    <tr>\n",
       "      <th>0</th>\n",
       "      <td>eduroam</td>\n",
       "      <td>f4:ea:b5:b0:d4:25</td>\n",
       "      <td>90</td>\n",
       "      <td>3.04</td>\n",
       "      <td>6.37</td>\n",
       "    </tr>\n",
       "    <tr>\n",
       "      <th>1</th>\n",
       "      <td>eduroam</td>\n",
       "      <td>f4:ea:b5:dc:6d:a5</td>\n",
       "      <td>15</td>\n",
       "      <td>3.04</td>\n",
       "      <td>6.37</td>\n",
       "    </tr>\n",
       "    <tr>\n",
       "      <th>2</th>\n",
       "      <td>eduroam</td>\n",
       "      <td>f4:ea:b5:dc:15:25</td>\n",
       "      <td>70</td>\n",
       "      <td>3.04</td>\n",
       "      <td>6.37</td>\n",
       "    </tr>\n",
       "    <tr>\n",
       "      <th>3</th>\n",
       "      <td>eduroam</td>\n",
       "      <td>f4:ea:b5:b0:d4:16</td>\n",
       "      <td>100</td>\n",
       "      <td>3.04</td>\n",
       "      <td>6.37</td>\n",
       "    </tr>\n",
       "    <tr>\n",
       "      <th>4</th>\n",
       "      <td>eduroam</td>\n",
       "      <td>f4:ea:b5:dc:15:16</td>\n",
       "      <td>80</td>\n",
       "      <td>3.04</td>\n",
       "      <td>6.37</td>\n",
       "    </tr>\n",
       "    <tr>\n",
       "      <th>...</th>\n",
       "      <td>...</td>\n",
       "      <td>...</td>\n",
       "      <td>...</td>\n",
       "      <td>...</td>\n",
       "      <td>...</td>\n",
       "    </tr>\n",
       "    <tr>\n",
       "      <th>449</th>\n",
       "      <td>DIRECT-94-HP ENVY Photo 7800</td>\n",
       "      <td>16:cb:19:29:6f:94</td>\n",
       "      <td>20</td>\n",
       "      <td>2.95</td>\n",
       "      <td>1.78</td>\n",
       "    </tr>\n",
       "    <tr>\n",
       "      <th>450</th>\n",
       "      <td>DIRECT-94-HP ENVY Photo 7801</td>\n",
       "      <td>16:cb:19:29:6f:94</td>\n",
       "      <td>85</td>\n",
       "      <td>2.95</td>\n",
       "      <td>1.78</td>\n",
       "    </tr>\n",
       "    <tr>\n",
       "      <th>451</th>\n",
       "      <td>Vodafone Homespot</td>\n",
       "      <td>a2:e7:ae:36:cf:a0</td>\n",
       "      <td>14</td>\n",
       "      <td>2.95</td>\n",
       "      <td>1.78</td>\n",
       "    </tr>\n",
       "    <tr>\n",
       "      <th>452</th>\n",
       "      <td>ClickShare-Labor008</td>\n",
       "      <td>f4:6a:dd:30:1e:25</td>\n",
       "      <td>65</td>\n",
       "      <td>2.95</td>\n",
       "      <td>1.78</td>\n",
       "    </tr>\n",
       "    <tr>\n",
       "      <th>453</th>\n",
       "      <td>FRITZ!Box 3490</td>\n",
       "      <td>34:31:c4:c5:36:90</td>\n",
       "      <td>14</td>\n",
       "      <td>2.95</td>\n",
       "      <td>1.78</td>\n",
       "    </tr>\n",
       "  </tbody>\n",
       "</table>\n",
       "<p>454 rows × 5 columns</p>\n",
       "</div>"
      ],
      "text/plain": [
       "                             SSID              BSSID  Signal(%)     X     Y\n",
       "0                         eduroam  f4:ea:b5:b0:d4:25         90  3.04  6.37\n",
       "1                         eduroam  f4:ea:b5:dc:6d:a5         15  3.04  6.37\n",
       "2                         eduroam  f4:ea:b5:dc:15:25         70  3.04  6.37\n",
       "3                         eduroam  f4:ea:b5:b0:d4:16        100  3.04  6.37\n",
       "4                         eduroam  f4:ea:b5:dc:15:16         80  3.04  6.37\n",
       "..                            ...                ...        ...   ...   ...\n",
       "449  DIRECT-94-HP ENVY Photo 7800  16:cb:19:29:6f:94         20  2.95  1.78\n",
       "450  DIRECT-94-HP ENVY Photo 7801  16:cb:19:29:6f:94         85  2.95  1.78\n",
       "451             Vodafone Homespot  a2:e7:ae:36:cf:a0         14  2.95  1.78\n",
       "452           ClickShare-Labor008  f4:6a:dd:30:1e:25         65  2.95  1.78\n",
       "453                FRITZ!Box 3490  34:31:c4:c5:36:90         14  2.95  1.78\n",
       "\n",
       "[454 rows x 5 columns]"
      ]
     },
     "execution_count": 6,
     "metadata": {},
     "output_type": "execute_result"
    }
   ],
   "source": [
    "df = pd.read_csv(\"./datas/without_acces/BSSIDs_collected.csv\", sep=\";\")\n",
    "df"
   ]
  },
  {
   "cell_type": "markdown",
   "metadata": {},
   "source": [
    "On a `454` signaux récoltés dans le fichier csv"
   ]
  },
  {
   "cell_type": "markdown",
   "metadata": {},
   "source": [
    "### Calcul de la position de l'usager"
   ]
  },
  {
   "cell_type": "markdown",
   "metadata": {},
   "source": [
    "`Calcul de la position de l'usager depuis le fichier`\n",
    "\n",
    "* Chargement du fichier des signaux de l'usager\n",
    "* Chargement des signaux collectés avec les positions où ils ont été prises\n",
    "* Calcul de la position proprement dite"
   ]
  },
  {
   "cell_type": "code",
   "execution_count": 7,
   "metadata": {},
   "outputs": [],
   "source": [
    "from src.detect_user import detect_collected_sim\n",
    "from src.load import load_collected_user, load_collected_positions_2d"
   ]
  },
  {
   "cell_type": "code",
   "execution_count": 8,
   "metadata": {},
   "outputs": [],
   "source": [
    "E = load_collected_user(\"./datas/without_acces/BSSID_user.csv\")\n",
    "P, D = load_collected_positions_2d(\"./datas/without_acces/BSSIDs_collected.csv\")\n",
    "M = detect_collected_sim(E, P, D)"
   ]
  },
  {
   "cell_type": "code",
   "execution_count": 9,
   "metadata": {},
   "outputs": [
    {
     "name": "stdout",
     "output_type": "stream",
     "text": [
      "[Position détectée]  \n",
      " M (x : 5.010830987562494, y : 7.287393508327559)\n"
     ]
    }
   ],
   "source": [
    "if M is not None:\n",
    "    print(\"[Position détectée]  \")\n",
    "    print(f\" M (x : {M[0]}, y : {M[1]})\")\n",
    "else:\n",
    "    print(\"[Aucune position détectée]  \")"
   ]
  }
 ],
 "metadata": {
  "kernelspec": {
   "display_name": "base",
   "language": "python",
   "name": "python3"
  },
  "language_info": {
   "codemirror_mode": {
    "name": "ipython",
    "version": 3
   },
   "file_extension": ".py",
   "mimetype": "text/x-python",
   "name": "python",
   "nbconvert_exporter": "python",
   "pygments_lexer": "ipython3",
   "version": "3.10.9"
  }
 },
 "nbformat": 4,
 "nbformat_minor": 2
}
